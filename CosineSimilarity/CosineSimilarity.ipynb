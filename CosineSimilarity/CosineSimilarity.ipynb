{
 "cells": [
  {
   "cell_type": "markdown",
   "metadata": {},
   "source": [
    "MDA FinalProject 106062132 趙仰生"
   ]
  },
  {
   "cell_type": "code",
   "execution_count": 1,
   "metadata": {},
   "outputs": [],
   "source": [
    "from pyspark import SparkConf , SparkContext"
   ]
  },
  {
   "cell_type": "markdown",
   "metadata": {},
   "source": [
    "ˇ第一個mapper用來存取資料，key為movie ID，value為user ID及rating"
   ]
  },
  {
   "cell_type": "code",
   "execution_count": 2,
   "metadata": {},
   "outputs": [],
   "source": [
    "def mapper1(line):\n",
    "    wordlist = line.split(\"\\t\")\n",
    "    maplist = []\n",
    "    maplist.append((int(wordlist[1]),[int(wordlist[0]),float(wordlist[2])]))\n",
    "    return maplist"
   ]
  },
  {
   "cell_type": "markdown",
   "metadata": {},
   "source": [
    "第一個reducer直接相加即可。"
   ]
  },
  {
   "cell_type": "code",
   "execution_count": 3,
   "metadata": {},
   "outputs": [],
   "source": [
    "def reducer1(x,y):\n",
    "    return x+y"
   ]
  },
  {
   "cell_type": "markdown",
   "metadata": {},
   "source": [
    "將data經過mapper1及reducer1的處理。"
   ]
  },
  {
   "cell_type": "code",
   "execution_count": 4,
   "metadata": {},
   "outputs": [],
   "source": [
    "conf = SparkConf().setMaster(\"local[*]\") \\\n",
    "    .setAppName(\"App_Name\") \\\n",
    "    .set('spark.executor.memory', '4G') \\\n",
    "    .set('spark.driver.memory', '45G') \\\n",
    "    .set('spark.driver.maxResultSize', '10G')\n",
    "sc = SparkContext(conf=conf)\n",
    "lines = sc.textFile(\"data2.txt\").flatMap(mapper1).reduceByKey(reducer1)"
   ]
  },
  {
   "cell_type": "markdown",
   "metadata": {},
   "source": [
    "第二個mapper用來計算cosine sim的分母(所有user對某個movie的rating平方相加開根號)，key為movie ID，value為其分母之值。"
   ]
  },
  {
   "cell_type": "code",
   "execution_count": 5,
   "metadata": {},
   "outputs": [],
   "source": [
    "def mapper2(line):\n",
    "    maplist = []\n",
    "    i = 0\n",
    "    j = 1\n",
    "    sum = 0\n",
    "    while 1:\n",
    "        if(i*2 == len(line[1])):\n",
    "            break\n",
    "        if(line[1][i * 2] == j):\n",
    "            sum += (line[1][i*2 + 1])**2\n",
    "            i += 1\n",
    "        j += 1\n",
    "    maplist.append((line[0],sum**0.5))\n",
    "    return maplist"
   ]
  },
  {
   "cell_type": "markdown",
   "metadata": {},
   "source": [
    "執行mapper2"
   ]
  },
  {
   "cell_type": "code",
   "execution_count": 6,
   "metadata": {},
   "outputs": [],
   "source": [
    "lines = lines.flatMap(mapper2)"
   ]
  },
  {
   "cell_type": "markdown",
   "metadata": {},
   "source": [
    "利用陣列rating_array，存取所有movie各自的分母。"
   ]
  },
  {
   "cell_type": "code",
   "execution_count": 7,
   "metadata": {},
   "outputs": [],
   "source": [
    "lines = lines.collect()\n",
    "rating_array = [0] * 193610\n",
    "for item in lines:\n",
    "    rating_array[item[0]] = item[1]"
   ]
  },
  {
   "cell_type": "markdown",
   "metadata": {},
   "source": [
    "第三個mapper用來再次處理資料，目的是為了待會方便計算cosine sim的分子。其key為user ID，value則為movie ID及rating。"
   ]
  },
  {
   "cell_type": "code",
   "execution_count": 8,
   "metadata": {},
   "outputs": [],
   "source": [
    "def mapper3(line):\n",
    "    wordlist = line.split(\"\\t\")\n",
    "    maplist = []\n",
    "    maplist.append((int(wordlist[0]),[int(wordlist[1]),float(wordlist[2])]))\n",
    "    return maplist"
   ]
  },
  {
   "cell_type": "markdown",
   "metadata": {},
   "source": [
    "利用mapper3及reducer1處理資料。"
   ]
  },
  {
   "cell_type": "code",
   "execution_count": 9,
   "metadata": {},
   "outputs": [],
   "source": [
    "lines2 = sc.textFile(\"data2.txt\").flatMap(mapper3).reduceByKey(reducer1)"
   ]
  },
  {
   "cell_type": "markdown",
   "metadata": {},
   "source": [
    "第四個mapper用來計算分子各項/分母，key為movie ID的pair，value則為cosine similarity的分子各項/分母(分母利用剛剛存起來的rating_array)。"
   ]
  },
  {
   "cell_type": "code",
   "execution_count": 10,
   "metadata": {},
   "outputs": [],
   "source": [
    "def mapper4(line):\n",
    "    maplist = []\n",
    "    for i in range(len(line[1])):\n",
    "        for j in range(len(line[1])):\n",
    "            if(j > i and i%2 == 0 and j%2 == 0):\n",
    "                maplist.append(((line[1][i] , line[1][j]), round(line[1][i+1] * line[1][j+1] / rating_array[line[1][i]] / rating_array[line[1][j]] , 5)))\n",
    "    return maplist"
   ]
  },
  {
   "cell_type": "markdown",
   "metadata": {},
   "source": [
    "第五個mapper用來交換key跟value的位置，為了方便排序similarity。"
   ]
  },
  {
   "cell_type": "code",
   "execution_count": 11,
   "metadata": {},
   "outputs": [],
   "source": [
    "def mapper5(line):\n",
    "    maplist = []\n",
    "    maplist.append((line[1],line[0]))\n",
    "    return maplist"
   ]
  },
  {
   "cell_type": "markdown",
   "metadata": {},
   "source": [
    "將資料經過mapper4、reducer1、mapper5的運算，並且sortbykey，由大到小將similarity排序。"
   ]
  },
  {
   "cell_type": "code",
   "execution_count": 12,
   "metadata": {},
   "outputs": [],
   "source": [
    "lines2 = lines2.flatMap(mapper4).reduceByKey(reducer1)\n",
    "lines2 = lines2.flatMap(mapper5).sortByKey(ascending= False)"
   ]
  },
  {
   "cell_type": "markdown",
   "metadata": {},
   "source": [
    "輸出output"
   ]
  },
  {
   "cell_type": "code",
   "execution_count": 13,
   "metadata": {},
   "outputs": [],
   "source": [
    "f = open('Outputfile2.txt', 'w')\n",
    "f.write(str(lines2.collect()))\n",
    "f.close()"
   ]
  },
  {
   "cell_type": "code",
   "execution_count": 14,
   "metadata": {},
   "outputs": [],
   "source": [
    "sc.stop()"
   ]
  },
  {
   "cell_type": "code",
   "execution_count": null,
   "metadata": {},
   "outputs": [],
   "source": []
  }
 ],
 "metadata": {
  "kernelspec": {
   "display_name": "Python 3",
   "language": "python",
   "name": "python3"
  },
  "language_info": {
   "codemirror_mode": {
    "name": "ipython",
    "version": 3
   },
   "file_extension": ".py",
   "mimetype": "text/x-python",
   "name": "python",
   "nbconvert_exporter": "python",
   "pygments_lexer": "ipython3",
   "version": "3.7.3"
  }
 },
 "nbformat": 4,
 "nbformat_minor": 2
}
