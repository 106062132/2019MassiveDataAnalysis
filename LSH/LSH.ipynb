{
 "cells": [
  {
   "cell_type": "markdown",
   "metadata": {},
   "source": []
  },
  {
   "cell_type": "code",
   "execution_count": 1,
   "metadata": {},
   "outputs": [],
   "source": [
    "from pyspark import SparkConf , SparkContext\n",
    "import binascii\n",
    "import time"
   ]
  },
  {
   "cell_type": "markdown",
   "metadata": {},
   "source": [
    "第一個mapper，將word從文章裡分開，且只要開頭為英文或是數字的word，key為1，value為word"
   ]
  },
  {
   "cell_type": "code",
   "execution_count": 2,
   "metadata": {},
   "outputs": [],
   "source": [
    "def mapper1(line):\n",
    "    wordlist = line.split(\" \")\n",
    "    maplist = []\n",
    "    for word in wordlist:\n",
    "        if word != \"\":\n",
    "            if( (ord(word[0]) >= 65 and ord(word[0]) <= 90) or (ord(word[0]) >= 97 and ord(word[0]) <= 122) or  (ord(word[0]) >= 48 and ord(word[0]) <= 57)):\n",
    "                maplist.append((1,[word]))\n",
    "    return maplist"
   ]
  },
  {
   "cell_type": "markdown",
   "metadata": {},
   "source": [
    "第一個reducer，直接return x+y"
   ]
  },
  {
   "cell_type": "code",
   "execution_count": 3,
   "metadata": {},
   "outputs": [],
   "source": [
    "def reducer1(x,y):\n",
    "    return x+y"
   ]
  },
  {
   "cell_type": "markdown",
   "metadata": {},
   "source": [
    "第二個mapper，將三個三個單字利用空白格串接在一起，以符合題目要求。三個單字串在一起之後，為了方便計算，先將其encode()，再轉成binascii.crc32，如此一來，可以將字串轉成數字。"
   ]
  },
  {
   "cell_type": "code",
   "execution_count": 4,
   "metadata": {},
   "outputs": [],
   "source": [
    "def mapper2(line):\n",
    "    maplist = []\n",
    "    i = 0\n",
    "    for word in line[1]:\n",
    "        # may not use \" \"\n",
    "        stringshingle = line[1][i]+\" \"+line[1][i+1]+\" \"+line[1][i+2]\n",
    "        stringshingle = stringshingle.encode()\n",
    "        maplist.append(binascii.crc32(stringshingle))\n",
    "        i = i + 1\n",
    "        if(i == (len(line[1]) - 2)):\n",
    "            break\n",
    "    return maplist"
   ]
  },
  {
   "cell_type": "markdown",
   "metadata": {},
   "source": [
    "利用for迴圈來map題目的101個文章，shinglesInDocInts記錄的是文章編號以及所有剛剛轉成數字的字串，並且將其sort好，且每個字串只會記錄一次，即不會重複計算，在每圈for迴圈的最後將其記錄在docsAsShingleRDD裡，也就是說當for迴圈結束時，docsAsShingleRDD會是一個二維陣列，index i 存的會是文章編號，index j 存的會是shinglesInDocInts。而docsAsShingleList記錄的是101篇文章，所有的字串組合，並且將其sort好，類似索引的概念，這樣做是為了計算總共有幾個字串，然後該字串應該在List中的哪個位置，且每個值只會記錄一次，即不會重複計算。"
   ]
  },
  {
   "cell_type": "code",
   "execution_count": 5,
   "metadata": {},
   "outputs": [
    {
     "name": "stdout",
     "output_type": "stream",
     "text": [
      "31.47405171394348\n"
     ]
    }
   ],
   "source": [
    "tStart = time.time()\n",
    "conf=SparkConf().set(\"spark.default.parallelism\", 4)\n",
    "sc = SparkContext(conf=conf)\n",
    "docsAsShingleRDD = [0] * 101\n",
    "docsAsShingleList = []\n",
    "for i in range(0,101):\n",
    "    shinglesInDocInts = []\n",
    "    if (i >= 0 and i <= 8):\n",
    "        stringtxt = \"00\" + str(i+1) + \".txt\"\n",
    "    elif(i >= 9 and i <= 98):\n",
    "        stringtxt = \"0\" + str(i+1) + \".txt\"\n",
    "    else:\n",
    "        stringtxt = str(i+1) + \".txt\"\n",
    "    lines1 = sc.textFile(stringtxt).flatMap(mapper1).reduceByKey(reducer1).flatMap(mapper2)\n",
    "    lenlines = lines1.count()\n",
    "    hashvalue = lines1.take(lenlines)\n",
    "    shinglesInDocInts.append(i+1)\n",
    "    for j in range(lenlines):\n",
    "        if hashvalue[j] not in shinglesInDocInts:\n",
    "            shinglesInDocInts.append(hashvalue[j])\n",
    "            if hashvalue[j] not in docsAsShingleList:\n",
    "                docsAsShingleList.append(hashvalue[j])\n",
    "    shinglesInDocInts.sort()\n",
    "    docsAsShingleRDD[i] = shinglesInDocInts\n",
    "    #print(i,docsAsShingleList[i])\n",
    "#print(docsAsShingleList)\n",
    "docsAsShingleList.sort()\n",
    "#print(docsAsShingleRDD)\n",
    "tEnd2 = time.time()\n",
    "print(tEnd2 - tStart)\n",
    "            "
   ]
  },
  {
   "cell_type": "markdown",
   "metadata": {},
   "source": [
    "第三個mapper，key為文章編號，也就是剛剛存在line[0]的值，value為該字串在docsAsShingleList中的index。"
   ]
  },
  {
   "cell_type": "code",
   "execution_count": 6,
   "metadata": {},
   "outputs": [],
   "source": [
    "def mapper3(line):\n",
    "    maplist = []\n",
    "    for i in range(1,len(line)):\n",
    "        maplist.append((line[0],[docsAsShingleList.index(line[i])]))\n",
    "    return maplist"
   ]
  },
  {
   "cell_type": "markdown",
   "metadata": {},
   "source": [
    "將剛剛做好的docsAsShingleRDD轉成RDD，也就是lines_mh，然後使用mapper3來map，再使用reducer1來reduce，如此一來，就會知道每個字串組合在docsAsShingleList中的index。"
   ]
  },
  {
   "cell_type": "code",
   "execution_count": 7,
   "metadata": {},
   "outputs": [],
   "source": [
    "lines_mh = sc.parallelize(docsAsShingleRDD)\n",
    "lines_mh = lines_mh.flatMap(mapper3)\n",
    "lines_mh = lines_mh.reduceByKey(reducer1)\n"
   ]
  },
  {
   "cell_type": "markdown",
   "metadata": {},
   "source": [
    "接著計算docsAsShingleList有多長，用於等等的hash。"
   ]
  },
  {
   "cell_type": "code",
   "execution_count": 8,
   "metadata": {},
   "outputs": [],
   "source": [
    "len_docsAsShingleList = len(docsAsShingleList)"
   ]
  },
  {
   "cell_type": "markdown",
   "metadata": {},
   "source": [
    "第四個mapper，用來hash，100個hash function的通式為((j + 1) * line[1][i] + j )% len_docsAsShingleList，j為0~99，代表100個hash function，hold與hnew陣列用來計算最後的hash值，最後key為文章編號，也就是line[0]，value為最終hash值，也就是hold。"
   ]
  },
  {
   "cell_type": "code",
   "execution_count": 9,
   "metadata": {},
   "outputs": [],
   "source": [
    "def mapper4(line):\n",
    "    maplist = []\n",
    "    hold = [len_docsAsShingleList+2] * 100\n",
    "    hnew = [len_docsAsShingleList+2] * 100\n",
    "    for i in range(len(line[1])):\n",
    "        for j in range(100):\n",
    "            hnew[j] = ( ((j + 1) * line[1][i] + j )% len_docsAsShingleList)  \n",
    "            if(hnew[j] < hold[j]):\n",
    "                hold[j] = hnew[j]\n",
    "    maplist.append((line[0],hold))\n",
    "    return maplist"
   ]
  },
  {
   "cell_type": "markdown",
   "metadata": {},
   "source": [
    "lines_mh使用mapper4。"
   ]
  },
  {
   "cell_type": "code",
   "execution_count": 10,
   "metadata": {},
   "outputs": [],
   "source": [
    "lines_mh = lines_mh.flatMap(mapper4)\n"
   ]
  },
  {
   "cell_type": "markdown",
   "metadata": {},
   "source": [
    "將所有字串的hash值存成陣列sig_matrix，方便之後計算similarity。"
   ]
  },
  {
   "cell_type": "code",
   "execution_count": 11,
   "metadata": {},
   "outputs": [],
   "source": [
    "shingle_matrix = lines_mh.take(101)\n",
    "sig_matrix = [0] * 101\n",
    "for i in range(101):\n",
    "    sig_matrix[shingle_matrix[i][0]-1] = shingle_matrix[i][1]\n",
    "#print(sig_matrix)"
   ]
  },
  {
   "cell_type": "markdown",
   "metadata": {},
   "source": [
    "第五個mapper用來做LSH，將每篇文章的100個hash值，分成50個band且r = 2，bucket則是利用2 * 第一個r + 5 * 第二個r，最後key為(band的number,bucket的number)，value則為文章編號。"
   ]
  },
  {
   "cell_type": "code",
   "execution_count": 12,
   "metadata": {},
   "outputs": [],
   "source": [
    "def mapper5(line):\n",
    "    maplist = []\n",
    "    for i in range(50):\n",
    "        band_num = i + 1\n",
    "        bucket_num = 2*line[1][i*2] + 5*line[1][i*2+1] \n",
    "        maplist.append(((band_num,bucket_num),[line[0]]))\n",
    "    return maplist"
   ]
  },
  {
   "cell_type": "markdown",
   "metadata": {},
   "source": [
    "lines_mh先後使用mapper5與reducer1。"
   ]
  },
  {
   "cell_type": "code",
   "execution_count": 13,
   "metadata": {
    "scrolled": true
   },
   "outputs": [],
   "source": [
    "lines_mh = lines_mh.flatMap(mapper5)\n",
    "lines_mh = lines_mh.reduceByKey(reducer1)\n"
   ]
  },
  {
   "cell_type": "markdown",
   "metadata": {},
   "source": [
    "第六個mapper，將hash到相同bucket完，只有一個文章的丟掉。"
   ]
  },
  {
   "cell_type": "code",
   "execution_count": 14,
   "metadata": {},
   "outputs": [],
   "source": [
    "def mapper6(line):\n",
    "    maplist = []\n",
    "    if (len(line[1]) != 1):\n",
    "        maplist.append((line[0],line[1]))\n",
    "    return maplist"
   ]
  },
  {
   "cell_type": "markdown",
   "metadata": {},
   "source": [
    "lines_mh使用mapper6。"
   ]
  },
  {
   "cell_type": "code",
   "execution_count": 15,
   "metadata": {},
   "outputs": [],
   "source": [
    "lines_mh = lines_mh.flatMap(mapper6)"
   ]
  },
  {
   "cell_type": "markdown",
   "metadata": {},
   "source": [
    "第七個mapper，將所有的candidate pair，利用剛剛存起來的sig_matrix，計算similarity。key為candidate pair，value為similarity。"
   ]
  },
  {
   "cell_type": "code",
   "execution_count": 16,
   "metadata": {},
   "outputs": [],
   "source": [
    "def mapper7(line):\n",
    "    maplist = []\n",
    "    for i in range(len(line[1])):\n",
    "        for j in range(len(line[1])):\n",
    "            matchcount = 0\n",
    "            if(j > i):\n",
    "                for k in range(100):\n",
    "                    if(sig_matrix[line[1][i]-1][k] == sig_matrix[line[1][j]-1][k]):\n",
    "                        matchcount = matchcount + 1\n",
    "                maplist.append(((line[1][i],line[1][j]),matchcount/100))\n",
    "    return maplist"
   ]
  },
  {
   "cell_type": "markdown",
   "metadata": {},
   "source": [
    "lines_mh使用mapper7"
   ]
  },
  {
   "cell_type": "code",
   "execution_count": 17,
   "metadata": {},
   "outputs": [],
   "source": [
    "lines_mh = lines_mh.flatMap(mapper7)\n",
    "#print(lines_mh.collect())"
   ]
  },
  {
   "cell_type": "markdown",
   "metadata": {},
   "source": [
    "第二個reducer，因為同一組candidate pair可能出現多次，因此只要保留一次，利用直接return x來完成。"
   ]
  },
  {
   "cell_type": "code",
   "execution_count": 18,
   "metadata": {},
   "outputs": [],
   "source": [
    "def reducer2(x,y):\n",
    "    return x"
   ]
  },
  {
   "cell_type": "markdown",
   "metadata": {},
   "source": [
    "lines_mh使用reducer2"
   ]
  },
  {
   "cell_type": "code",
   "execution_count": 19,
   "metadata": {
    "scrolled": true
   },
   "outputs": [],
   "source": [
    "lines_mh = lines_mh.reduceByKey(reducer2)\n",
    "#print(lines_mh.collect())"
   ]
  },
  {
   "cell_type": "markdown",
   "metadata": {},
   "source": [
    "第八個mapper，將key設為similarity，value設為candidate pair，以便待會利用sortByKey來排名。"
   ]
  },
  {
   "cell_type": "code",
   "execution_count": 20,
   "metadata": {},
   "outputs": [],
   "source": [
    "def mapper8(line):\n",
    "    maplist = []\n",
    "    maplist.append((line[1],[line[0][0],line[0][1]]))\n",
    "    return maplist"
   ]
  },
  {
   "cell_type": "markdown",
   "metadata": {},
   "source": [
    "lines_mh使用mapper8，並且依照similarity，利用sortByKey由大到小排名。"
   ]
  },
  {
   "cell_type": "code",
   "execution_count": 21,
   "metadata": {},
   "outputs": [],
   "source": [
    "lines_mh = lines_mh.flatMap(mapper8)\n",
    "lines_mh = lines_mh.sortByKey(ascending= False)"
   ]
  },
  {
   "cell_type": "markdown",
   "metadata": {},
   "source": [
    "將結果印出，資料夾裡也有一份outputfile，麻煩助教了。"
   ]
  },
  {
   "cell_type": "code",
   "execution_count": 22,
   "metadata": {
    "scrolled": true
   },
   "outputs": [
    {
     "name": "stdout",
     "output_type": "stream",
     "text": [
      "Top 1 12 and 20 : 1.0\n",
      "Top 2 52 and 84 : 1.0\n",
      "Top 3 30 and 35 : 0.82\n",
      "Top 4 49 and 47 : 0.7\n",
      "Top 5 40 and 14 : 0.56\n",
      "Top 6 48 and 49 : 0.56\n",
      "Top 7 38 and 23 : 0.51\n",
      "Top 8 88 and 49 : 0.45\n",
      "Top 9 48 and 47 : 0.41\n",
      "Top 10 88 and 47 : 0.29\n",
      "35.77479076385498\n"
     ]
    }
   ],
   "source": [
    "answer = lines_mh.take(10)\n",
    "for i in range(10):\n",
    "    print(\"Top\",(i+1),answer[i][1][0],\"and\",answer[i][1][1],\":\",answer[i][0])\n",
    "tEnd = time.time()\n",
    "print(tEnd - tStart)"
   ]
  },
  {
   "cell_type": "code",
   "execution_count": 138,
   "metadata": {},
   "outputs": [],
   "source": [
    "sc.stop()"
   ]
  },
  {
   "cell_type": "code",
   "execution_count": null,
   "metadata": {},
   "outputs": [],
   "source": []
  },
  {
   "cell_type": "code",
   "execution_count": null,
   "metadata": {},
   "outputs": [],
   "source": []
  }
 ],
 "metadata": {
  "kernelspec": {
   "display_name": "Python 3",
   "language": "python",
   "name": "python3"
  },
  "language_info": {
   "codemirror_mode": {
    "name": "ipython",
    "version": 3
   },
   "file_extension": ".py",
   "mimetype": "text/x-python",
   "name": "python",
   "nbconvert_exporter": "python",
   "pygments_lexer": "ipython3",
   "version": "3.7.3"
  }
 },
 "nbformat": 4,
 "nbformat_minor": 2
}
