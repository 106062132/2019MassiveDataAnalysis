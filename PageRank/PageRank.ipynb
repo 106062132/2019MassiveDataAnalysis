{
 "cells": [
  {
   "cell_type": "markdown",
   "metadata": {},
   "source": [
    "MDA_HW2_Report\n",
    "106062132 趙仰生\n",
    "import library"
   ]
  },
  {
   "cell_type": "code",
   "execution_count": 12,
   "metadata": {},
   "outputs": [],
   "source": [
    "from pyspark import SparkConf , SparkContext\n",
    "import heapq"
   ]
  },
  {
   "cell_type": "markdown",
   "metadata": {},
   "source": [
    "第一個mapper，key為出發node，value則是被指到的node"
   ]
  },
  {
   "cell_type": "code",
   "execution_count": 13,
   "metadata": {},
   "outputs": [],
   "source": [
    "def mapper1(line):\n",
    "    wordlist = line.split(\"\\t\")\n",
    "    maplist = []\n",
    "    key = wordlist[0]\n",
    "    value = [wordlist[1]]\n",
    "    maplist.append((key,value))\n",
    "    return maplist"
   ]
  },
  {
   "cell_type": "markdown",
   "metadata": {},
   "source": [
    "用助教教的方法去平行化，跑得更快。\n",
    "然後將資料經過第一個mapper處理，並且把r[]建出來（裡頭的初始值是1/10876）。"
   ]
  },
  {
   "cell_type": "code",
   "execution_count": 14,
   "metadata": {},
   "outputs": [],
   "source": [
    "conf=SparkConf().set(\"spark.default.parallelism\", 4)\n",
    "sc = SparkContext(conf=conf)\n",
    "lines = sc.textFile(\"p2p-Gnutella04.txt\").flatMap(mapper1)\n",
    "r = [1/10876] * 10876\n",
    "breakcheck = r"
   ]
  },
  {
   "cell_type": "markdown",
   "metadata": {},
   "source": [
    "這個reducer從頭用到尾，直接把value值相加"
   ]
  },
  {
   "cell_type": "code",
   "execution_count": 15,
   "metadata": {},
   "outputs": [],
   "source": [
    "def reducer1(x,y):\n",
    "    return x+y"
   ]
  },
  {
   "cell_type": "markdown",
   "metadata": {},
   "source": [
    "把剛剛map完的lines做reduce"
   ]
  },
  {
   "cell_type": "code",
   "execution_count": 16,
   "metadata": {},
   "outputs": [],
   "source": [
    "lines = lines.reduceByKey(reducer1)"
   ]
  },
  {
   "cell_type": "markdown",
   "metadata": {},
   "source": [
    "第二個mapper將contrbution算出來，key為被指向的node，value[0]為出發node，value[1]為contribution再乘以Beta(0.8)"
   ]
  },
  {
   "cell_type": "code",
   "execution_count": 17,
   "metadata": {},
   "outputs": [],
   "source": [
    "def mapper2(line):\n",
    "    maplist = []\n",
    "    ct1 = 0\n",
    "    for item in line[1]:\n",
    "        ct1 = ct1 + 1\n",
    "    ct1 = 1 / ct1\n",
    "    for item2 in line[1]:\n",
    "        key = item2\n",
    "        value = [line[0],ct1*0.8]\n",
    "        maplist.append((key,value))\n",
    "    return maplist"
   ]
  },
  {
   "cell_type": "markdown",
   "metadata": {},
   "source": [
    "將lines經過第二個mapper處理，並且reduce。\n",
    "並且把這個lines存給lines2（方便後續iteration處理）"
   ]
  },
  {
   "cell_type": "code",
   "execution_count": 18,
   "metadata": {},
   "outputs": [],
   "source": [
    "lines = lines.flatMap(mapper2)\n",
    "lines = lines.reduceByKey(reducer1)\n",
    "lines2 = lines"
   ]
  },
  {
   "cell_type": "markdown",
   "metadata": {},
   "source": [
    "第三個mapper將contribution乘上rank值，所以key會是被指向的node，value會是剛剛的contribution乘上出發node的值。\n",
    "這裡有做一個特殊處理，因為測資有三個空的點(10452,10493,10647)，而且有三個超出10876的點(10876,10877,10878)，所以將後面的三個填到前面的空缺。"
   ]
  },
  {
   "cell_type": "code",
   "execution_count": 19,
   "metadata": {},
   "outputs": [],
   "source": [
    "def mapper3(line):\n",
    "    maplist = []\n",
    "    for i in range(0,len(line[1]),2):\n",
    "        key = int(line[0])\n",
    "        if(int(line[1][i]) == 10876):\n",
    "            value = line[1][i+1]*r[10452]\n",
    "        if(int(line[1][i]) == 10877):\n",
    "            value = line[1][i+1]*r[10493]\n",
    "        if(int(line[1][i]) == 10878):\n",
    "            value = line[1][i+1]*r[10647]\n",
    "        else:\n",
    "            value = line[1][i+1]*r[int(line[1][i])]\n",
    "        maplist.append((key,value))\n",
    "    return maplist"
   ]
  },
  {
   "cell_type": "markdown",
   "metadata": {},
   "source": [
    "這裡是iteration，首先把剛剛存好的lines2丟回給lines，這樣就可以跑一樣的mapper3（其中不一樣的只有不斷被更新的rank值）\n",
    "然後最後做reduce把所有的值加總，將所有的點的rank設成0（避免初始值影響）\n",
    "並且用take把加總的值拿出來存回去r[]裡面（這裡一樣把後面超出範圍的三個點填到前面空著的三個點），然後將1/N*(1-B)加到每個點上\n",
    "最後用sum做renormalize，並且iteration20次就完成了。"
   ]
  },
  {
   "cell_type": "code",
   "execution_count": 9,
   "metadata": {
    "scrolled": false
   },
   "outputs": [],
   "source": [
    "for n in range(20):\n",
    "    lines = lines2\n",
    "    lines = lines.flatMap(mapper3)\n",
    "    lines = lines.reduceByKey(reducer1)\n",
    "    lines_list = lines.take(10876)\n",
    "    rsum = 0\n",
    "    for i in range(10876):\n",
    "        r[i] = 0\n",
    "    for item in lines_list:\n",
    "        if(item[0] == 10876):\n",
    "            r[10452] = item[1]\n",
    "        elif(item[0] == 10877):\n",
    "            r[10493] = item[1]\n",
    "        elif(item[0] == 10878):\n",
    "            r[10647] = item[1]\n",
    "        else:\n",
    "            r[item[0]] = item[1]\n",
    "    for i in range(10876):\n",
    "        r[i] += 1/10876*0.2\n",
    "        rsum += r[i]\n",
    "    renorma = (1 - rsum)/10876\n",
    "    for i in range(10876):\n",
    "        r[i] += renorma"
   ]
  },
  {
   "cell_type": "markdown",
   "metadata": {},
   "source": [
    "把前10的值印出來。"
   ]
  },
  {
   "cell_type": "code",
   "execution_count": 10,
   "metadata": {},
   "outputs": [
    {
     "name": "stdout",
     "output_type": "stream",
     "text": [
      "1056 0.0006321988095901951\n",
      "1054 0.0006291557128603996\n",
      "1536 0.000523910339752709\n",
      "171 0.0005116224706020393\n",
      "453 0.0004956586476699704\n",
      "407 0.0004848441996390273\n",
      "263 0.00047961928931848473\n",
      "4664 0.0004704975514074384\n",
      "261 0.00046289158656890255\n",
      "410 0.0004615100382904277\n"
     ]
    }
   ],
   "source": [
    "res = sorted(range(len(r)), key = lambda sub: r[sub])[-10:] \n",
    "for i in range(10):\n",
    "    print(res[9-i],r[res[9-i]])"
   ]
  },
  {
   "cell_type": "markdown",
   "metadata": {},
   "source": [
    "寫入Outputfile，並且stop sc。"
   ]
  },
  {
   "cell_type": "code",
   "execution_count": 11,
   "metadata": {},
   "outputs": [],
   "source": [
    "f = open('Outputfile.txt', 'w')\n",
    "for i in range(10):\n",
    "    f.write('{:6}'.format(str(res[9-i]))+str(r[res[9-i]])+'\\n')\n",
    "f.close()\n",
    "sc.stop()"
   ]
  }
 ],
 "metadata": {
  "kernelspec": {
   "display_name": "Python 3",
   "language": "python",
   "name": "python3"
  },
  "language_info": {
   "codemirror_mode": {
    "name": "ipython",
    "version": 3
   },
   "file_extension": ".py",
   "mimetype": "text/x-python",
   "name": "python",
   "nbconvert_exporter": "python",
   "pygments_lexer": "ipython3",
   "version": "3.7.3"
  }
 },
 "nbformat": 4,
 "nbformat_minor": 2
}
