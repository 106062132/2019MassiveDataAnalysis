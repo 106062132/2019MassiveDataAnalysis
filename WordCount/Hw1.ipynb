{
 "cells": [
  {
   "cell_type": "code",
   "execution_count": 1,
   "metadata": {},
   "outputs": [],
   "source": [
    "from pyspark import SparkConf , SparkContext"
   ]
  },
  {
   "cell_type": "code",
   "execution_count": 2,
   "metadata": {},
   "outputs": [],
   "source": [
    "def mapper1(line):\n",
    "    wordlist = line.split(\",\")\n",
    "    maplist = []\n",
    "    if(wordlist[0] == \"M\") : \n",
    "            key = wordlist[2]\n",
    "            value = [wordlist[0],int(wordlist[1]),int(wordlist[3])]\n",
    "            maplist.append((key,value))\n",
    "    else :\n",
    "            key = wordlist[1]\n",
    "            value = [wordlist[0],int(wordlist[2]),int(wordlist[3])]\n",
    "            maplist.append((key , value))\n",
    "    return maplist"
   ]
  },
  {
   "cell_type": "code",
   "execution_count": 3,
   "metadata": {},
   "outputs": [],
   "source": [
    "def reducer1(x,y):\n",
    "    return x+y"
   ]
  },
  {
   "cell_type": "code",
   "execution_count": 4,
   "metadata": {
    "scrolled": true
   },
   "outputs": [],
   "source": [
    "conf = SparkConf().setMaster(\"local\").setAppName(\"matrix\")\n",
    "sc = SparkContext(conf=conf)\n",
    "lines = sc.textFile(\"500input.txt\").flatMap(mapper1)\n"
   ]
  },
  {
   "cell_type": "code",
   "execution_count": 16,
   "metadata": {},
   "outputs": [],
   "source": [
    "lines = lines.reduceByKey(reducer1)\n",
    "        \n",
    "    \n"
   ]
  },
  {
   "cell_type": "code",
   "execution_count": 17,
   "metadata": {},
   "outputs": [],
   "source": [
    "def mapper2(line):\n",
    "    maplist2 = []\n",
    "    ct1 = 0;\n",
    "    ct2 = 0;\n",
    "    for item in line[1]:\n",
    "        for item2 in line[1]:\n",
    "            if(item==\"M\" and item2==\"N\"):\n",
    "                key = (line[1][ct1+1],line[1][ct2+1])\n",
    "                value = line[1][ct1+2]*line[1][ct2+2]\n",
    "                maplist2.append((key,value))\n",
    "            ct2 = ct2 + 1\n",
    "        ct1 = ct1 + 1\n",
    "        ct2 = 0\n",
    "    return maplist2"
   ]
  },
  {
   "cell_type": "code",
   "execution_count": 18,
   "metadata": {},
   "outputs": [],
   "source": [
    "lines = lines.flatMap(mapper2)"
   ]
  },
  {
   "cell_type": "code",
   "execution_count": 19,
   "metadata": {},
   "outputs": [],
   "source": [
    "lines = lines.reduceByKey(reducer1)"
   ]
  },
  {
   "cell_type": "code",
   "execution_count": 20,
   "metadata": {},
   "outputs": [],
   "source": [
    "def mapper3(line):\n",
    "    myList = [line[1]]\n",
    "    f= open(\"output.txt\",\"a\")\n",
    "    f.write(\"%s,%s,%s\\r\\n\" % (line[0][0],line[0][1],line[1]))\n",
    "    return myList"
   ]
  },
  {
   "cell_type": "code",
   "execution_count": 1,
   "metadata": {},
   "outputs": [
    {
     "ename": "NameError",
     "evalue": "name 'lines' is not defined",
     "output_type": "error",
     "traceback": [
      "\u001b[0;31m---------------------------------------------------------------------------\u001b[0m",
      "\u001b[0;31mNameError\u001b[0m                                 Traceback (most recent call last)",
      "\u001b[0;32m<ipython-input-1-2254d9c90865>\u001b[0m in \u001b[0;36m<module>\u001b[0;34m\u001b[0m\n\u001b[0;32m----> 1\u001b[0;31m \u001b[0mlines\u001b[0m \u001b[0;34m=\u001b[0m \u001b[0mlines\u001b[0m\u001b[0;34m.\u001b[0m\u001b[0mmap\u001b[0m\u001b[0;34m(\u001b[0m\u001b[0mmapper3\u001b[0m\u001b[0;34m)\u001b[0m\u001b[0;34m\u001b[0m\u001b[0;34m\u001b[0m\u001b[0m\n\u001b[0m\u001b[1;32m      2\u001b[0m \u001b[0mprint\u001b[0m\u001b[0;34m(\u001b[0m\u001b[0;36m0\u001b[0m\u001b[0;34m)\u001b[0m\u001b[0;34m\u001b[0m\u001b[0;34m\u001b[0m\u001b[0m\n",
      "\u001b[0;31mNameError\u001b[0m: name 'lines' is not defined"
     ]
    }
   ],
   "source": [
    "lines = lines.map(mapper3)\n",
    "print(lines.collect())"
   ]
  },
  {
   "cell_type": "code",
   "execution_count": null,
   "metadata": {},
   "outputs": [],
   "source": [
    "sc.stop()"
   ]
  },
  {
   "cell_type": "code",
   "execution_count": null,
   "metadata": {},
   "outputs": [],
   "source": []
  }
 ],
 "metadata": {
  "kernelspec": {
   "display_name": "Python 3",
   "language": "python",
   "name": "python3"
  },
  "language_info": {
   "codemirror_mode": {
    "name": "ipython",
    "version": 3
   },
   "file_extension": ".py",
   "mimetype": "text/x-python",
   "name": "python",
   "nbconvert_exporter": "python",
   "pygments_lexer": "ipython3",
   "version": "3.7.3"
  }
 },
 "nbformat": 4,
 "nbformat_minor": 2
}
